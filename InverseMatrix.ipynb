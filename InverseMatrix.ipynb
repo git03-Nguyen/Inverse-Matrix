{
 "cells": [
  {
   "cell_type": "markdown",
   "id": "784a934a",
   "metadata": {},
   "source": [
    "# Toán ứng dụng và thống kê\n",
    "# ĐỒ ÁN 2\n",
    "---\n",
    "### Họ tên: Nguyễn Đình Ánh\n",
    "### MSSV: 21120171\n",
    "### Lớp: 21_2\n",
    "---"
   ]
  },
  {
   "cell_type": "markdown",
   "id": "992e1247",
   "metadata": {},
   "source": [
    "## Câu 1: Viết hàm <code>inverse(A)</code>, trong đó:\n",
    "- **Input**: <code>A</code> là ma trận vuông.\n",
    "- **Output**: Ma trận nghịch đảo của ma trận <code>A</code> ban đầu (nếu có).\n",
    "<br>Trường hợp không có ma trận nghịch đảo sẽ hiện thông báo <i>\"Ma trận không khả nghịch\"</i>.\n",
    "\n",
    "#### Lưu ý:\n",
    "- Sinh viên phải sử dụng thuật toán Gauss – Jordan đã được hướng dẫn trong phần bài tập để tìm ma trận nghịch đảo.<br>\n",
    "- Sinh viên không được dùng các hàm có sẵn của các thư viện để tìm ma trận nghịch đảo."
   ]
  },
  {
   "cell_type": "markdown",
   "id": "53b0a6bb",
   "metadata": {},
   "source": [
    "### Ma trận khả nghịch\n",
    "Cho ma trận $A \\in M_n(K)$. Ta nói $A$ khả nghịch nếu tồn tại ma trận $B$ sao cho $AB=BA=I_n$. Nếu $B$ thỏa điều kiện trên được gọi là ma trận nghịch đảo của $A$. Khi đó, $B$ khả nghịch, duy nhất và $B=A^{-1}$.\n",
    "\n",
    "### Phương pháp tìm ma trận nghịch đảo\n",
    "- Lập ma trận $(A|I_n)$ và dùng các phép biến đổi sơ cấp trên dòng $\\varphi$ để đưa về dạng bậc thang rút gọn.\n",
    "\\begin{align*}\n",
    "    (A|I_n) \\xrightarrow{\\varphi_1} (A_1|B_1) \\xrightarrow{\\varphi_2} \\cdots \\xrightarrow{\\varphi_p} (A_p|B_p) \\xrightarrow{} \\cdots\n",
    "\\end{align*}\n",
    "Trong quá trình biến đổi có thể xảy ra 2 trường hợp:\n",
    "- **TH1:** tồn tại $p$ sao cho trong dãy biến đổi trên, ma trận $A_p$ có ít nhất một dòng hay một cột bằng $0$. Khi đó $A$ **sẽ không khả nghịch**.\n",
    "- **TH2:** mọi ma trận $A_i$ trong dãy biến đổi trên đều không có dòng hay cột bằng $0$. Khi đó ma trận cuối cùng của dãy trên có dạng $(I_n|B)$, ta có $A$ **khả nghịch** và $A^{-1}=B$.\n",
    "\n",
    "\n",
    "### Phép khử Gauss-Jordan (Gauss-Jordan elimination):\n",
    "**Khử Gauss-Jordan (Gauss-Jordan elimination)** là một cách biến đổi tương đương dòng đưa ma trận về dạng **bậc thang rút gọn**. Các bước của thuật toán này tương tự với các bước của **phép khử Gauss** (được trình bày trong Đồ án 1). Sự khác nhau là ở bước cộng một bội số thích hợp của dòng đang xét cho tất cả dòng (cả trên và dưới) thay vì chỉ cộng với những dòng dưới như thuật Gauss.\n",
    "\n",
    "### Thuật toán tìm ma trận nghịch đảo\n",
    "Ta tiến hành kết hợp thuật toán Gauss-Jordan vào quá trình tìm ma trận nghịch đảo, đầu vào sẽ là một ma trận vuông $A \\in M_n$. Cụ thể các bước như sau:\n",
    "- **Bước 1**: Lập ma trận $(A|I_n) \\in M_{n \\times 2n}$. Chọn xét cột đầu tiên.\n",
    "- **Bước 2**: Nếu số hạng đầu cột nhận được là $0$, đổi chỗ hai dòng, để đưa số hạng khác $0$ đầu tiên ở dưới về đầu cột. <br>\n",
    "Nếu trong cột không tồn tại phần tử khác $0$ nào, kết luận **\"Ma trận không khả nghịch\"** và kết thúc.\n",
    "- **Bước 3**: Với số hạng đang xét là $a \\neq 0$, nhân dòng chứa nó với $\\frac{1}{a}$ để có số dẫn đầu $a=1$.\n",
    "- **Bước 4**: Cộng một bội số thích hợp của dòng đầu cho tất cả các dòng (kể cả dòng đã che, trừ dòng hiện tại) để biến các hệ số cùng cột thành $0$, trừ hệ số tại dòng hiện tại.\n",
    "- **Bước 5**: Che dòng đầu đã làm xong, tiến tới cột tiếp theo. Lặp lại từ Bước 2 cho đến khi hết cột. Khi đó, kết quả sẽ là ma trận $(I_n|A^{-1})$, kết luận **ma trận $A$ khả nghịch**, trả về ma trận nghịch đảo $A^{-1}$ và kết thúc."
   ]
  },
  {
   "cell_type": "code",
   "execution_count": 1,
   "id": "b31ed373",
   "metadata": {
    "scrolled": true
   },
   "outputs": [
    {
     "name": "stdout",
     "output_type": "stream",
     "text": [
      "Nghịch đảo:  [[9.5, -2.5, -0.5], [-3, 1, 0], [-2.5, 0.5, 0.5]]\n",
      "---\n",
      "Ma trận không khả nghịch!\n"
     ]
    }
   ],
   "source": [
    "# Hàm sinh ma trận đơn vị\n",
    "def identity(n):\n",
    "    if n <= 0: return []\n",
    "    a = [[0] * n for i in range(n)]\n",
    "    for i in range(n):\n",
    "        a[i][i] = 1\n",
    "    return a\n",
    "\n",
    "# Hàm ghép ma trận để tạo ma trận (A|I_n)\n",
    "def combine(A, b):\n",
    "    if not A or not b or len(A) != len(b): return []\n",
    "    n, nA, nb = len(A), len(A[0]), len(b[0])\n",
    "    res = [[0]*(nA+nb) for i in range(n)]\n",
    "    for i in range(n):\n",
    "        for j in range(nA):\n",
    "            res[i][j] = A[i][j]\n",
    "        for j in range(nA, nA+nb):\n",
    "            res[i][j] = b[i-nA][j-nA]\n",
    "    return res\n",
    "\n",
    "# Hàm tách ma trận\n",
    "def subMatrix(matrix, index):\n",
    "    if not matrix or index >= len(matrix[0]):\n",
    "        return []\n",
    "    res = []\n",
    "    for i in range(len(matrix)):\n",
    "        res.append(matrix[i][index:])\n",
    "    return res\n",
    "\n",
    "# Hàm tìm ma trận nghịch đảo\n",
    "def inverse(A):\n",
    "    # Kiểm tra đầu vào\n",
    "    if not A or len(A) != len(A[0]):\n",
    "        print(\"Kích thước không hợp lệ!\")\n",
    "        return False, A\n",
    "    \n",
    "    n = len(A[0])\n",
    "    A_I = combine(A, identity(n))\n",
    "\n",
    "    # Lặp xét các phần tử đường chéo chính của A là a_{root,root}\n",
    "    for root in range(n):\n",
    "        # B1,2: Nếu phần tử gốc bằng 0, lặp trên cột, và hoán vị dòng để đưa phần tử gốc khác 0\n",
    "        if A_I[root][root] == 0:\n",
    "            for i in range(root+1, n):\n",
    "                if A_I[i][root] != 0: # Tìm được phần tử != 0, hoán vị dòng gốc\n",
    "                    A_I[root], A_I[i] = A_I[i], A_I[root]\n",
    "                    break;\n",
    "            # Cả cột toàn 0, kết luận không khả nghịch, kết thúc\n",
    "            if A_I[root][root] == 0:\n",
    "                print(\"Ma trận không khả nghịch!\")\n",
    "                return False, []\n",
    "            \n",
    "        # B3: Đưa phần tử đầu tiên của dòng gốc về 1 bằng cách nhân dòng với 1/a\n",
    "        if A_I[root][root] != 1.0:\n",
    "            A_I[root] = [x/A_I[root][root] for x in A_I[root]]\n",
    "            \n",
    "        # B4: Cộng tất cả các dòng khác còn lại để đưa phần tử trên cột về 0, nếu bằng 0 sẵn rồi thì bỏ qua\n",
    "        for i in range(n):\n",
    "            if i != root and A_I[i][root] != 0:\n",
    "                A_I[i] = [A_I[i][j] - A_I[i][root]*A_I[root][j] for j in range(2*n)]\n",
    "           \n",
    "        # B5: Đã xong 1 dòng/cột, che dòng/cột và đi tới dòng/cột tiếp theo bằng lệnh for\n",
    "    \n",
    "    return True, subMatrix(A_I, n)\n",
    "\n",
    "# MAIN - TEST-CASES:\n",
    "A = [[1,2,1],[3,7,3],[2,3,4]]\n",
    "res, B = inverse(A)\n",
    "if (res): print(\"Nghịch đảo: \", B)\n",
    "print(\"---\")\n",
    "A = [[-1,3,-4],[2,4,1],[-4,2,-9]]\n",
    "res, B = inverse(A)\n",
    "if (res): print(\"Nghịch đảo: \", B)"
   ]
  },
  {
   "cell_type": "markdown",
   "id": "ae0f3054",
   "metadata": {},
   "source": [
    "### Mô tả ý tưởng:\n",
    "- Vì theo đề bài, đầu vào là một ma trận vuông $A$ nên ta viết thêm các hàm:\n",
    "    - Tạo ma trận đơn vị <code>identity(n)</code>.\n",
    "    - Ghép ma trận $(A|I_n)$ <code>combine(A, b)</code>.\n",
    "    - Tách lấy phần nghịch đảo <code>subMatrix(A, n)</code>.\n",
    "- Hàm chính là hàm <code>inverse(A)</code> sẽ cài đặt như ý tưởng thuật toán trên.\n",
    "    - Tạo $(A|I_n)$.\n",
    "    - Duyệt theo các phần tử $a_{ii}$ trên đường chéo chính, tìm cách đưa đường chéo chính về $1$:\n",
    "        - Nếu phần tử $a_{ii}$ đang xét khác $0$, nhân dòng với $\\frac{1}{a_{ii}}$ để đưa về $1$.\n",
    "        - Tìm dòng có phần tử khác $0$ cùng cột $i$, hoán vị dòng đó lên rồi đưa về $1$.\n",
    "        - Nếu không có phần tử nào khác $0$ trên cột, **kết luận $A$ không khả nghịch**.\n",
    "    - Sau khi đưa $a_{ii}$ về $1$, đưa các phần tử còn lại trên cột $i$ về $0$ bằng cách:\n",
    "        - Cộng các dòng còn lại (trừ $i$) với $\\alpha=-[\\text{Phần tử thuộc cột i của dòng đó}]$ lần dòng $i$.\n",
    "    - Xét $a_{ii}$ tiếp theo. Lặp lại cho đến khi dừng do không khả nghịch hoặc hết phần tử đường chéo chính.\n",
    "    - Ta được kết quả là $(I_n|A^{-1})$, tiến hành tách để lấy $A^{-1}$ và trả về.\n",
    "    - Trong quá trình viết hàm, sẽ lưu ý tối ưu vòng lặp, tránh vòng lặp trùng; có kiểm tra lỗi chặt chẽ.\n",
    "\n",
    "### Mô tả hàm:\n",
    "- Các hàm có kiểm tra lỗi chặt chẽ, được tối ưu vòng lặp.\n",
    "- Có sử dụng các kỹ thuật viết code Python kiểu <i>list comprehension</i> nhằm rút gọn code.\n",
    "- Có chú thích cụ thể trên mã nguồn.\n",
    "- Cài đặt theo đúng ý tưởng trên phần **Mô tả ý tưởng**.\n",
    "\n",
    "##### Hàm <code>identity(n)</code>: tạo ma trận đơn vị:\n",
    "- Input: kích thước $n$.\n",
    "- Output: ma trận đơn vị $I_n$.\n",
    "- Giải thích:\n",
    "    - Kiểm tra lỗi kích thước không hợp lệ.\n",
    "    - Tạo một ma trận $0$ kích thước $n \\times n$.\n",
    "    - Duyệt trên đường chéo chính, gán phần tử đường chéo chính bằng $1$.\n",
    "    \n",
    "##### Hàm <code>combine(A, b)</code>: ghép theo cột ma trận $A$, $b$ để tạo thành $(A|b)$:\n",
    "- Input: hai ma trận $A$, $b$.\n",
    "- Output: ma trận $(A|b)$.\n",
    "- Giải thích:\n",
    "    - Kiểm tra lỗi ma trận rỗng, lỗi $A$ và $b$ không cùng số dòng.\n",
    "    - Khởi tạo các biến $n$: số dòng; $n_A$: số cột của $A$; $n_b$: số cột của $b$.\n",
    "    - Khởi tạo ma trận kết quả <code>res</code> là ma trận $0$ có kích thước $n \\times (n_A+n_b)$.\n",
    "    - Duyệt trên từng dòng, giá trị từ cột $1$ đến cột $n_A$ là của $A$, từ cột $nA+1$ đến hết là của $b$.\n",
    "    - Trả về kết quả.\n",
    "    \n",
    "##### Hàm <code>subMatrix(matrix, index)</code>: tách theo cột để lấy một ma trận nhỏ hơn cùng số dòng:\n",
    "- Input: chỉ số cột <code>index</code>.\n",
    "- Output: một ma trận cùng số dòng với <code>matrix</code>, lấy từ cột thứ <code>index-1</code> đến hết.\n",
    "- Giải thích:\n",
    "    - Kiểm tra lỗi ma trận rỗng; lỗi chỉ số cột vượt quá số cột.\n",
    "    - Duyệt trên từng dòng của <code>matrix</code>, copy dòng từ vị trí cột thứ <code>index+1</code> đến hết.\n",
    "    - Trả về kết quả.\n",
    "\n",
    "##### Hàm <code>inverse(A)</code>: tìm ma trận nghịch đảo dựa trên thuật Gauss-Jordan:\n",
    "- Input: ma trận vuông <code>A</code>.\n",
    "- Output: <code>True, A^(-1)</code> nếu <code>A</code> khả nghịch, ngược lại <code>False, []</code> và có một dòng thông báo \"Ma trận không khả nghịch\".\n",
    "- Giải thích:\n",
    "    - Kiểm tra lỗi ma trận rỗng; lỗi không phải ma trận vuông (vì theo đề bài đã cho thì input là 1 ma trận vuông).\n",
    "    - Khởi tạo biến <code>n</code> lưu kích thước ma trận vuông <code>A</code>.\n",
    "    - Lập ma trận <code>A_I</code> là ma trận ghép $(A|I_n)$.\n",
    "    - Lặp trên đường chéo chính của ma trận <code>A_I</code> sử dụng biến <code>root</code> làm biến chỉ số, gọi phần tử đường chéo chính đang xét là phần tử gốc:\n",
    "        - B1,2: Nếu phần tử gốc là $0$ thì duyệt trên cột tìm phần tử khác $0$ rồi hoán vị dòng. Nếu không tìm được phần tử khác $0$ nào, tức cả cột đó là $0$, lập tức kết luận **\"Không khả nghịch\"** và kết thúc.\n",
    "        - B3: Đưa phần tử gốc về $1$ bằng cách chia cả dòng cho phần tử gốc. Code được viết theo kiểu <i>list comprehension</i>.\n",
    "        - B4: Duyệt trên hàng, với mỗi hàng (trừ hàng chứa phần tử gốc đang xét), đem nó cộng với một số $\\alpha$ lần dòng chứa phần tử gốc đang xét, nhằm đưa cả cột (trừ phần tử gốc) về $0$. Cột đó khi đó có dạng toàn $0$ trừ giá trị nằm tại nút giao với đường chéo chính là $1$. \n",
    "        - B5: Tiến tới vòng lặp tiếp theo. Tăng <code>root</code> lên tức dịch xuống 1 dòng/cột, qua phần tử đường chéo tiếp theo, gọi nó là gốc, và lặp lại các bước 1, 2, 3, 4 cho đến khi \"Không khả nghịch\" hoặc hết phần tử đường chéo chính. \n",
    "    - Lúc này <code>A_I</code> có dạng $(I_n|A^{-1})$, tiến hành tách lấy **kết quả $A^{-1}$ và trả về**.\n",
    "---"
   ]
  },
  {
   "cell_type": "markdown",
   "id": "94a25198",
   "metadata": {},
   "source": [
    "### Câu 3:  Mở rộng:\n",
    "Tìm hiểu hàm/ phương thức tương ứng của các thư viện và thực hiện nó, so sánh kết quả"
   ]
  },
  {
   "cell_type": "code",
   "execution_count": 2,
   "id": "0e3dbfed",
   "metadata": {},
   "outputs": [],
   "source": [
    "import sympy as sp\n",
    "from sympy import Matrix"
   ]
  },
  {
   "cell_type": "markdown",
   "id": "d9202843",
   "metadata": {},
   "source": [
    "#### Cách 1: Tìm ma trận nghịch đảo trực tiếp\n",
    "- Thư viện <code>sympy</code>, phương thức <code>sympy.Matrix.inv()</code>: tìm ma trận nghịch đảo của một ma trận vuông. Nếu ma trận không khả nghịch, phương thức này sẽ ném ra ngoại lệ ValueError. "
   ]
  },
  {
   "cell_type": "code",
   "execution_count": 3,
   "id": "b0c5b830",
   "metadata": {
    "scrolled": true
   },
   "outputs": [
    {
     "name": "stdout",
     "output_type": "stream",
     "text": [
      "Ma trận không khả nghịch!\n",
      "---\n"
     ]
    },
    {
     "data": {
      "text/latex": [
       "$\\displaystyle \\left[\\begin{matrix}\\frac{19}{2} & - \\frac{5}{2} & - \\frac{1}{2}\\\\-3 & 1 & 0\\\\- \\frac{5}{2} & \\frac{1}{2} & \\frac{1}{2}\\end{matrix}\\right]$"
      ],
      "text/plain": [
       "Matrix([\n",
       "[19/2, -5/2, -1/2],\n",
       "[  -3,    1,    0],\n",
       "[-5/2,  1/2,  1/2]])"
      ]
     },
     "execution_count": 3,
     "metadata": {},
     "output_type": "execute_result"
    }
   ],
   "source": [
    "# Hàm tìm ma trận nghịch đảo trực tiếp\n",
    "def directInverse(A):\n",
    "    try:\n",
    "        B = A.inv()\n",
    "        return B\n",
    "    except ValueError:\n",
    "        print(\"Ma trận không khả nghịch!\")\n",
    "        return []\n",
    "\n",
    "A = sp.Matrix([[-1,3,-4],[2,4,1],[-4,2,-9]])\n",
    "directInverse(A)\n",
    "print(\"---\")\n",
    "A = sp.Matrix([[1,2,1],[3,7,3],[2,3,4]])\n",
    "directInverse(A)"
   ]
  },
  {
   "cell_type": "markdown",
   "id": "8cfe2e6d",
   "metadata": {},
   "source": [
    "#### Cách 2: Tìm ma trận nghịch đảo bằng Gauss-Jordan\n",
    "- Thư viện <code>sympy</code>, phương thức <code>sympy.Matrix.eye(n)</code>: ma trận đơn vị kích thước $n$.\n",
    "- Thư viện <code>sympy</code>, phương thức <code>sympy.Matrix.row_join()</code>: ghép ma trận $(A|I_n)$.\n",
    "- Thư viện <code>sympy</code>, phương thức <code>sympy.Matrix.rref()</code>: biến đổi về ma trận bậc thang rút gọn (Gauss-Jorrdan)."
   ]
  },
  {
   "cell_type": "code",
   "execution_count": 4,
   "id": "eb3dddda",
   "metadata": {},
   "outputs": [
    {
     "name": "stdout",
     "output_type": "stream",
     "text": [
      "Ma trận không khả nghịch\n",
      "---\n"
     ]
    },
    {
     "data": {
      "text/latex": [
       "$\\displaystyle \\left[\\begin{matrix}\\frac{19}{2} & - \\frac{5}{2} & - \\frac{1}{2}\\\\-3 & 1 & 0\\\\- \\frac{5}{2} & \\frac{1}{2} & \\frac{1}{2}\\end{matrix}\\right]$"
      ],
      "text/plain": [
       "Matrix([\n",
       "[19/2, -5/2, -1/2],\n",
       "[  -3,    1,    0],\n",
       "[-5/2,  1/2,  1/2]])"
      ]
     },
     "execution_count": 4,
     "metadata": {},
     "output_type": "execute_result"
    }
   ],
   "source": [
    "# Hàm tìm ma trận nghịch đảo gián tiếp\n",
    "def indirectInverse(A):\n",
    "    n = A.shape[0]\n",
    "    A_I = A.row_join(sp.Matrix.eye(n))\n",
    "    A_I = A_I.rref()[0]\n",
    "    if A_I[:, :n] != Matrix.eye(n):\n",
    "        print(\"Ma trận không khả nghịch\")\n",
    "        return []\n",
    "    B = A_I[:, n:]\n",
    "    return B\n",
    "\n",
    "A = sp.Matrix([[-1,3,-4],[2,4,1],[-4,2,-9]])\n",
    "indirectInverse(A)\n",
    "print(\"---\")\n",
    "A = sp.Matrix([[1,2,1],[3,7,3],[2,3,4]])\n",
    "indirectInverse(A)"
   ]
  },
  {
   "cell_type": "markdown",
   "id": "23941fdc",
   "metadata": {},
   "source": [
    "#### Rút ra kết luận:\n",
    "- Bởi đề bài không nói rõ có bắt buộc dùng Gauss-Jordan cho trường hợp dùng thư viện không nên em trình bày cả 2 cách. Tuy nhiên, ưu tiên cách 1 hơn vì tính tối ưu.\n",
    "- So sánh kết quả: so với kết quả của **Câu 1** thì kết quả ma trận nghịch đảo được tính có hỗ trợ phân số, và được format trình bày đẹp hơn. Tuy nhiên trên phương diện đúng/sai thì cả 2 đều đúng.\n",
    "----"
   ]
  },
  {
   "cell_type": "markdown",
   "id": "b314758e",
   "metadata": {},
   "source": [
    "## TÀI LIỆU THAM KHẢO:\n",
    "1. Slide lý thuyết môn Toán Ứng dụng và Thống kê, Nguyễn Hữu Toàn, ĐH KHTN, ĐHQG-HCM, 2023.\n",
    "2. Slide thực hành lab môn Toán ứng dụng và Thống kê, Võ Nam Thục Đoan, ĐHKHTN, ĐHQG-HCM, 2023.\n",
    "4. https://vi.wikipedia.org/wiki/Ph%C3%A2n_t%C3%ADch_LU\n",
    "5. https://docs.scipy.org/doc/scipy/reference/\n",
    "6. https://numpy.org/doc/"
   ]
  }
 ],
 "metadata": {
  "kernelspec": {
   "display_name": "Python 3 (ipykernel)",
   "language": "python",
   "name": "python3"
  },
  "language_info": {
   "codemirror_mode": {
    "name": "ipython",
    "version": 3
   },
   "file_extension": ".py",
   "mimetype": "text/x-python",
   "name": "python",
   "nbconvert_exporter": "python",
   "pygments_lexer": "ipython3",
   "version": "3.9.13"
  }
 },
 "nbformat": 4,
 "nbformat_minor": 5
}
